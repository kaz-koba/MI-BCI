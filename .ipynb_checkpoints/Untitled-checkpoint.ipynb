{
 "cells": [
  {
   "cell_type": "code",
   "execution_count": 1,
   "metadata": {},
   "outputs": [
    {
     "name": "stdout",
     "output_type": "stream",
     "text": [
      "Extracting EDF parameters from C:\\Users\\sprin\\Desktop\\MIBCI\\EDFfile\\record-[2020.07.16]-1-kiriya.edf...\n",
      "EDF file detected\n",
      "Setting channel info structure...\n",
      "Creating raw.info structure...\n",
      "Reading 0 ... 246271  =      0.000 ...   480.998 secs...\n",
      "Filtering raw data in 1 contiguous segment\n",
      "Setting up band-pass filter from 4 - 35 Hz\n",
      "\n",
      "FIR filter parameters\n",
      "---------------------\n",
      "Designing a one-pass, zero-phase, non-causal bandpass filter:\n",
      "- Windowed time-domain design (firwin) method\n",
      "- Hamming window with 0.0194 passband ripple and 53 dB stopband attenuation\n",
      "- Lower passband edge: 4.00\n",
      "- Lower transition bandwidth: 2.00 Hz (-6 dB cutoff frequency: 3.00 Hz)\n",
      "- Upper passband edge: 35.00 Hz\n",
      "- Upper transition bandwidth: 8.75 Hz (-6 dB cutoff frequency: 39.38 Hz)\n",
      "- Filter length: 845 samples (1.650 sec)\n",
      "\n",
      "40 matching events found\n",
      "No baseline correction applied\n",
      "Not setting metadata\n",
      "0 projection items activated\n",
      "Loading data for 40 events and 3585 original time points ...\n",
      "0 bad epochs dropped\n",
      "Extracting EDF parameters from C:\\Users\\sprin\\Desktop\\MIBCI\\EDFfile\\record-[2020.07.16]-2-kiriya.edf...\n",
      "EDF file detected\n",
      "Setting channel info structure...\n",
      "Creating raw.info structure...\n",
      "Reading 0 ... 250367  =      0.000 ...   488.998 secs...\n",
      "Filtering raw data in 1 contiguous segment\n",
      "Setting up band-pass filter from 4 - 35 Hz\n",
      "\n",
      "FIR filter parameters\n",
      "---------------------\n",
      "Designing a one-pass, zero-phase, non-causal bandpass filter:\n",
      "- Windowed time-domain design (firwin) method\n",
      "- Hamming window with 0.0194 passband ripple and 53 dB stopband attenuation\n",
      "- Lower passband edge: 4.00\n",
      "- Lower transition bandwidth: 2.00 Hz (-6 dB cutoff frequency: 3.00 Hz)\n",
      "- Upper passband edge: 35.00 Hz\n",
      "- Upper transition bandwidth: 8.75 Hz (-6 dB cutoff frequency: 39.38 Hz)\n",
      "- Filter length: 845 samples (1.650 sec)\n",
      "\n",
      "40 matching events found\n",
      "No baseline correction applied\n",
      "Not setting metadata\n",
      "0 projection items activated\n",
      "Loading data for 40 events and 3585 original time points ...\n",
      "0 bad epochs dropped\n",
      "Extracting EDF parameters from C:\\Users\\sprin\\Desktop\\MIBCI\\EDFfile\\record-[2020.07.16]-3-kiriya.edf...\n",
      "EDF file detected\n",
      "Setting channel info structure...\n",
      "Creating raw.info structure...\n",
      "Reading 0 ... 247807  =      0.000 ...   483.998 secs...\n",
      "Filtering raw data in 1 contiguous segment\n",
      "Setting up band-pass filter from 4 - 35 Hz\n",
      "\n",
      "FIR filter parameters\n",
      "---------------------\n",
      "Designing a one-pass, zero-phase, non-causal bandpass filter:\n",
      "- Windowed time-domain design (firwin) method\n",
      "- Hamming window with 0.0194 passband ripple and 53 dB stopband attenuation\n",
      "- Lower passband edge: 4.00\n",
      "- Lower transition bandwidth: 2.00 Hz (-6 dB cutoff frequency: 3.00 Hz)\n",
      "- Upper passband edge: 35.00 Hz\n",
      "- Upper transition bandwidth: 8.75 Hz (-6 dB cutoff frequency: 39.38 Hz)\n",
      "- Filter length: 845 samples (1.650 sec)\n",
      "\n",
      "40 matching events found\n",
      "No baseline correction applied\n",
      "Not setting metadata\n",
      "0 projection items activated\n",
      "Loading data for 40 events and 3585 original time points ...\n",
      "0 bad epochs dropped\n",
      "120 matching events found\n",
      "No baseline correction applied\n",
      "Not setting metadata\n",
      "0 bad epochs dropped\n",
      "['FCz', 'FC1', 'FC2', 'FC3', 'FC4', 'Cz', 'C1', 'C2', 'C3', 'C4']\n"
     ]
    }
   ],
   "source": [
    "import configparser\n",
    "\n",
    "import numpy as np\n",
    "import matplotlib.pyplot as plt\n",
    "\n",
    "import mne\n",
    "from mne import concatenate_epochs\n",
    "from mne.io import read_raw_edf\n",
    "\n",
    "from sklearn.metrics import confusion_matrix, classification_report\n",
    "import seaborn as sns\n",
    "import matplotlib.pyplot as plt\n",
    "from datetime import datetime\n",
    "\n",
    "from pathfile import PATHfile\n",
    "from epoch_raw import Epoch_raw, Setting_file\n",
    "\n",
    "if __name__ == \"__main__\":\n",
    "    # set epoching parameters\n",
    "    tmin, tmax =-1., 5.\n",
    "    fmin, fmax = 4., 35.\n",
    "    event_map = {0:\"Left\", 1:'Right'}#, 2:'Another'}\n",
    "    sample_freq = 512\n",
    "    reg_sec = 1\n",
    "    inifile = configparser.ConfigParser()\n",
    "    inifile.read('./parameter.ini', 'UTF-8')\n",
    "    exec_time = datetime.now().strftime('%Y%m%d_%H:%M:%S')\n",
    "    log_file = \"file.log\"\n",
    "\n",
    "    day, name, trial, task_num, path, C, gamma, n_components, time = Setting_file().set_file()\n",
    "    ch_list = [\"C3\", \"C4\"]\n",
    "\n",
    "    if task_num == 2:\n",
    "        event_id = [1, 2]\n",
    "    elif task_num == 3:\n",
    "        event_id = [1, 2, 3]\n",
    "\n",
    "    if path == \"day\":\n",
    "        path_b = [(PATHfile.edfpath(name, day, \"1\"), PATHfile.eventpath(name, day, \"1\")),\n",
    "            (PATHfile.edfpath(name, day, \"2\"), PATHfile.eventpath(name, day, \"2\")),\n",
    "            (PATHfile.edfpath(name, day, \"3\"), PATHfile.eventpath(name, day, \"3\"))]\n",
    "    elif path == \"trial\":\n",
    "        path_b = [(PATHfile.edfpath(name, day, trial), PATHfile.eventpath(name, day, trial))]\n",
    "\n",
    "    epochs = []\n",
    "    # (re)load the data to save memory\n",
    "    for path, event in path_b:\n",
    "        raw = read_raw_edf(path, stim_channel=False, preload=True)\n",
    "        epochs.append(Epoch_raw.Epochs_raw(raw, event, event_id, fmin, fmax, tmin, tmax))\n",
    "    epochs = concatenate_epochs(epochs)\n",
    "    ch_names = epochs.ch_names\n",
    "    print(ch_names)\n",
    "    labels = epochs.events[:, -1]"
   ]
  },
  {
   "cell_type": "code",
   "execution_count": 2,
   "metadata": {},
   "outputs": [
    {
     "data": {
      "text/plain": [
       "[array([  1,   3,   5,   6,   7,  10,  11,  12,  13,  16,  17,  22,  23,\n",
       "         25,  27,  29,  31,  35,  38,  39,  40,  41,  42,  43,  45,  46,\n",
       "         47,  53,  57,  58,  60,  61,  62,  63,  65,  67,  69,  71,  75,\n",
       "         79,  81,  82,  83,  85,  87,  91,  97,  98, 101, 102, 103, 105,\n",
       "        107, 108, 109, 111, 113, 114, 116, 119], dtype=int64),\n",
       " array([  0,   2,   4,   8,   9,  14,  15,  18,  19,  20,  21,  24,  26,\n",
       "         28,  30,  32,  33,  34,  36,  37,  44,  48,  49,  50,  51,  52,\n",
       "         54,  55,  56,  59,  64,  66,  68,  70,  72,  73,  74,  76,  77,\n",
       "         78,  80,  84,  86,  88,  89,  90,  92,  93,  94,  95,  96,  99,\n",
       "        100, 104, 106, 110, 112, 115, 117, 118], dtype=int64)]"
      ]
     },
     "execution_count": 2,
     "metadata": {},
     "output_type": "execute_result"
    }
   ],
   "source": [
    "index = [np.where(labels == id)[0] for id in event_id]\n",
    "index"
   ]
  },
  {
   "cell_type": "code",
   "execution_count": 3,
   "metadata": {},
   "outputs": [
    {
     "data": {
      "text/plain": [
       "[<Epochs  |   60 events (all good), -2 - 5 sec, baseline off, ~16.4 MB, data loaded,\n",
       "  '1': 60>,\n",
       " <Epochs  |   60 events (all good), -2 - 5 sec, baseline off, ~16.4 MB, data loaded,\n",
       "  '2': 60>]"
      ]
     },
     "execution_count": 3,
     "metadata": {},
     "output_type": "execute_result"
    }
   ],
   "source": [
    "data = [epochs[i] for i in index]\n",
    "data"
   ]
  },
  {
   "cell_type": "code",
   "execution_count": 4,
   "metadata": {},
   "outputs": [],
   "source": [
    "data = [X.get_data() for X in data]"
   ]
  },
  {
   "cell_type": "code",
   "execution_count": 6,
   "metadata": {},
   "outputs": [
    {
     "data": {
      "text/plain": [
       "(60, 10, 3585)"
      ]
     },
     "execution_count": 6,
     "metadata": {},
     "output_type": "execute_result"
    }
   ],
   "source": [
    "data[0].shape"
   ]
  },
  {
   "cell_type": "code",
   "execution_count": 7,
   "metadata": {},
   "outputs": [],
   "source": [
    "data_jth_ave = [] #(ch, t)\n",
    "for X in data:\n",
    "    data_jth_ave.append(np.array([X[:,:,j].mean(axis=0) for j in range(0, X.shape[2])]).T)"
   ]
  },
  {
   "cell_type": "code",
   "execution_count": 10,
   "metadata": {},
   "outputs": [
    {
     "data": {
      "text/plain": [
       "(10, 3585)"
      ]
     },
     "execution_count": 10,
     "metadata": {},
     "output_type": "execute_result"
    }
   ],
   "source": [
    "data_jth_ave[0].shape"
   ]
  },
  {
   "cell_type": "code",
   "execution_count": 11,
   "metadata": {},
   "outputs": [],
   "source": [
    "average = [np.zeros(X[0].shape) for X in data]"
   ]
  },
  {
   "cell_type": "code",
   "execution_count": 13,
   "metadata": {},
   "outputs": [
    {
     "data": {
      "text/plain": [
       "(10, 3585)"
      ]
     },
     "execution_count": 13,
     "metadata": {},
     "output_type": "execute_result"
    }
   ],
   "source": [
    "average[0].shape"
   ]
  },
  {
   "cell_type": "code",
   "execution_count": 14,
   "metadata": {},
   "outputs": [],
   "source": [
    "for i in range(len(average)):\n",
    "    for x in data[i]:\n",
    "        average[i] += (x - data_jth_ave[i]) ** 2\n",
    "    average[i] /= len(data[i])"
   ]
  },
  {
   "cell_type": "code",
   "execution_count": 15,
   "metadata": {},
   "outputs": [],
   "source": [
    "# compute reference power\n",
    "ref = [np.atleast_2d(ave[:, :reg_sec * sample_freq].mean(axis=1)).T for ave in average]"
   ]
  },
  {
   "cell_type": "code",
   "execution_count": 16,
   "metadata": {},
   "outputs": [
    {
     "data": {
      "text/plain": [
       "[array([[36.91817135],\n",
       "        [37.34187821],\n",
       "        [33.84944789],\n",
       "        [36.60407666],\n",
       "        [26.32909202],\n",
       "        [35.79459796],\n",
       "        [35.26879576],\n",
       "        [30.74104865],\n",
       "        [34.0157494 ],\n",
       "        [25.94292273]]), array([[39.6286699 ],\n",
       "        [39.96510173],\n",
       "        [37.63042779],\n",
       "        [39.63527248],\n",
       "        [30.19654304],\n",
       "        [38.41639886],\n",
       "        [37.19316786],\n",
       "        [34.00851226],\n",
       "        [35.78786672],\n",
       "        [29.75782753]])]"
      ]
     },
     "execution_count": 16,
     "metadata": {},
     "output_type": "execute_result"
    }
   ],
   "source": [
    "ref"
   ]
  },
  {
   "cell_type": "code",
   "execution_count": null,
   "metadata": {},
   "outputs": [],
   "source": []
  }
 ],
 "metadata": {
  "kernelspec": {
   "display_name": "Python 3",
   "language": "python",
   "name": "python3"
  },
  "language_info": {
   "codemirror_mode": {
    "name": "ipython",
    "version": 3
   },
   "file_extension": ".py",
   "mimetype": "text/x-python",
   "name": "python",
   "nbconvert_exporter": "python",
   "pygments_lexer": "ipython3",
   "version": "3.7.4"
  }
 },
 "nbformat": 4,
 "nbformat_minor": 2
}
